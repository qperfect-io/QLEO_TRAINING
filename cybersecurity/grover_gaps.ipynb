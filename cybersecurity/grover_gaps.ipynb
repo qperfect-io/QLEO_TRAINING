{
 "cells": [
  {
   "cell_type": "markdown",
   "id": "cdd9bf81",
   "metadata": {},
   "source": [
    "# QLEO demo - Grover's Algorithm\n",
    "QPerfect 2025 https://qperfect.io/\n",
    "\n",
    "The interactive version of this demo can be found at https://github.com/qperfect-io/MimiqDemos/blob/main/Grover/grover.ipynb"
   ]
  },
  {
   "cell_type": "markdown",
   "id": "ec26d34d",
   "metadata": {},
   "source": [
    "## Introduction and context\n",
    "Grover's algorithm is a foundational quantum algorithm that offers a quadratic speedup for unstructured search problems. Introduced by Lov Grover in 1996, it efficiently finds a specific item in an unsorted database of size $N$ using only $O(\\sqrt{N})$ queries to the database, compared to the $O(N)$ queries required by classical algorithms. Grover's algorithm has broad applications, including in cryptography, optimization problems, pattern matching and machine learning and quantum complexity theory.\n",
    "\n",
    "### Problem definition\n",
    "\n",
    "The standard implementation of Grover's algorithm consists of the following steps:\n",
    "\n",
    "1. Initialization: Start with a register of $n$ qubits in the $|0\\rangle$ state, where $N = 2^n$ is the size of the search space\n",
    "\n",
    "2. Superposition: Apply Hadamard gates (H) to all qubits, creating a uniform superposition of all possible states\n",
    "\n",
    "3. Grover Iteration: Repeat the following steps $\\sqrt{N}$ times:\n",
    "   a. Oracle Operation: Apply the phase oracle that marks the target state by flipping its phase\n",
    "   b. Diffusion Operator: Apply the Grover diffusion operator, which consists of:\n",
    "      - Hadamard gates on all qubits\n",
    "      - A conditional phase shift of -1 on all states except $|0\\rangle$\n",
    "      - Hadamard gates on all qubits again\n",
    "\n",
    "4. Measurement: Measure the qubits in the computational basis to obtain the solution with high probability.\n",
    "\n",
    "The number of iterations is typically chosen to be $\\lfloor \\pi/4 \\cdot \\sqrt{N} \\rfloor$ which provides the optimal probability of finding the target state.\n",
    "\n",
    "### QLEO Features used in this demo\n",
    "- Multicontrol gates\n",
    "- Circuit primitives: Diffusion, Polynomial Oracle\n",
    "- Use of the z-register to store state amplitudes midcircuit "
   ]
  },
  {
   "cell_type": "markdown",
   "id": "a980c876",
   "metadata": {},
   "source": [
    "## QLEO implementation\n",
    "In this demo we will first implement a simple version of Grover's algorithm to identify desired bit string among $2^n$ possible bitstrings.\n",
    "\n",
    "Let's start by importing the required packages"
   ]
  },
  {
   "cell_type": "code",
   "execution_count": null,
   "id": "5b78b37d",
   "metadata": {
    "collapsed": true
   },
   "outputs": [],
   "source": [
    "import matplotlib.pyplot as plt\n",
    "import numpy as np\n",
    "from qleo import *\n",
    "\n",
    "# Instantiate the simulator\n",
    "sim = Qleo()"
   ]
  },
  {
   "cell_type": "markdown",
   "id": "5119a97b",
   "metadata": {},
   "source": [
    "Next we can define Grover's algorithm. The following function takes the number of iterations and an oracle circuit as inputs and generates the full circuit for Grover's algorithm."
   ]
  },
  {
   "cell_type": "code",
   "execution_count": null,
   "id": "595a8907",
   "metadata": {},
   "outputs": [],
   "source": [
    "def grover(iterations, oracle_circ, callback=None):\n",
    "    \"\"\"\n",
    "    MIMIQ circuit for Grover's algorithm.\n",
    "    \n",
    "    Args:\n",
    "    iterations (int): Number of Grover iterations.\n",
    "    oracle_circ (Circuit): Oracle circuit.\n",
    "    \n",
    "    Returns:\n",
    "    Circuit: The Grover's algorithm quantum circuit.\n",
    "    \"\"\"\n",
    "    nq = oracle_circ.num_qubits()\n",
    "    circ = Circuit()\n",
    "    \n",
    "    # TODO: Create the uniform superposition state\n",
    "    \n",
    "    for i in range(iterations):    \n",
    "        # Callback for storing the amplitudes of\n",
    "        # the target strings in the z register\n",
    "        if callback:\n",
    "            circ.append(callback(i))\n",
    "            \n",
    "        # TODO: Apply the oracle operator\n",
    "        \n",
    "        # TODO: Apply the diffusion operator \n",
    "    return circ"
   ]
  },
  {
   "cell_type": "markdown",
   "id": "83dd98b2",
   "metadata": {},
   "source": [
    "We'll also define a callback function for adding an `Amplitude` instruction to the circuit which will put the probability amplitude of the state corresponding to a given bitstring for each iteration in the z-register for plotting."
   ]
  },
  {
   "cell_type": "code",
   "execution_count": 4,
   "id": "f033b15e",
   "metadata": {},
   "outputs": [],
   "source": [
    "def amplitude_callback(bitstring):\n",
    "    def callback(i):\n",
    "        circ = Circuit()\n",
    "        circ.push(Amplitude(bitstring), i)\n",
    "        return circ\n",
    "    return callback"
   ]
  },
  {
   "cell_type": "markdown",
   "id": "283e2cb4",
   "metadata": {},
   "source": [
    "Finally we need to define the oracle operator. As a simple example we consider a circuit which flips the phase of one or more desired bitstrings, which will serve as our target states. In MIMIQ a phase flip for a desired bitstring can be easily implemented using a multicontrolled-Z gate"
   ]
  },
  {
   "cell_type": "code",
   "execution_count": null,
   "id": "855b322c",
   "metadata": {},
   "outputs": [],
   "source": [
    "def oracle(bitstring):\n",
    "    \"\"\"\n",
    "    Create an oracle circuit that flips the phase of a desired bitstring.\n",
    "    \n",
    "    Args:\n",
    "    bitstring: Target bitstring to mark.\n",
    "    \n",
    "    Returns:\n",
    "    Circuit: Oracle circuit that marks the target state.\n",
    "    \"\"\"\n",
    "    nq = len(bitstring)\n",
    "    circ = Circuit()\n",
    "\n",
    "    # TODO: Apply X gates where bits are 0\n",
    "\n",
    "    # TODO: Add phase - if all qubits are in state 1\n",
    "\n",
    "    # TODO: Uncompute X gates\n",
    "            \n",
    "    return circ"
   ]
  },
  {
   "cell_type": "markdown",
   "id": "6c5b6edf",
   "metadata": {},
   "source": [
    "Now we are ready to test the algorithm on QLEO. Here we specify a simple target bitstring and generate the circuit with callback function. This allows to obtain the relevant state amplitude in each iteration with one execution."
   ]
  },
  {
   "cell_type": "code",
   "execution_count": null,
   "id": "0bbf8231",
   "metadata": {},
   "outputs": [],
   "source": [
    "# define parameters\n",
    "targetstr = BitString([1,0,1,0,1,0,1,0])\n",
    "maxiter=25\n",
    "n = len(targetstr)\n",
    "\n",
    "# TODO: generate circuits and execute"
   ]
  },
  {
   "cell_type": "markdown",
   "id": "7b9f35e1",
   "metadata": {},
   "source": [
    "We can then plot the probability of the final state in the target bitstring as a function of the number of iterations, which will show a characteristic oscillatory behavior."
   ]
  },
  {
   "cell_type": "code",
   "execution_count": null,
   "id": "58c8dbd4",
   "metadata": {},
   "outputs": [],
   "source": [
    "# Calculate success probabilities\n",
    "success_probs = [abs(a)**2 for a in results.zstates[0]]\n",
    "\n",
    "# estimate the optimal number of iterations\n",
    "iterations = int(np.floor(np.pi/4*np.sqrt(2**n)))\n",
    "\n",
    "# display results\n",
    "print(f\"Grover search algorithm: target strings {targetstr}\")\n",
    "plt.figure(figsize=(10, 6))\n",
    "plt.plot(success_probs, label='Success Probability')\n",
    "plt.axvline(x=iterations, color='k', linestyle='--', label='Optimal Iterations')\n",
    "plt.xlabel('Number of Grover Iterations')\n",
    "plt.ylabel('Success Probability')\n",
    "plt.title(\"Grover's Algorithm Performance\")\n",
    "plt.legend()\n",
    "plt.grid(True)\n",
    "plt.show()"
   ]
  },
  {
   "cell_type": "markdown",
   "id": "ba6df4a4",
   "metadata": {},
   "source": [
    "We see that the success probability reaches very close to 1 after the expected number of iterations (12 in this case)"
   ]
  },
  {
   "cell_type": "markdown",
   "id": "0abf5741",
   "metadata": {},
   "source": [
    "## Going further with QLEO\n",
    "\n",
    "The oracle in Grover's algorithm is often a source of confusion, particularly since in the preceeding example it seems that the Oracle already contains the solution. However that is not necessary. The oracle in Grover's algorithm serves as a black box that can identify the correct state without revealing it directly. To demonstrate this, we will implement a more advanced oracle which can be used to factor composite integers."
   ]
  },
  {
   "cell_type": "markdown",
   "id": "6751a8a2",
   "metadata": {},
   "source": [
    "### Explanation of the factoring algorithm\n",
    "\n",
    "**For a given integer $N$ we aim to find its factors $p$, $q$ which satisfy $N=pq$.**\n",
    "\n",
    "We can formulate the factoring problem as a search problem in which we aim to find the factors $p$,$q$ which satisfy \n",
    "\n",
    "$$|N - pq| = 0$$\n",
    "\n",
    "To solve this problem using quantum circuits, we can define three quantum registers $X, Y, Z$ with $n_x, n_y$ and $n_z = n_x + n_y + 1$ qubits respectively. \n"
   ]
  },
  {
   "cell_type": "markdown",
   "id": "ecbf31a8",
   "metadata": {},
   "source": [
    "The algorithm starts with the $X$ and $Y$ registers initialized in the uniform state. The $Z$ register is initialized in the state $|N\\rangle$ where $N$ is the binary representation of the number to be factored. \n",
    "\n",
    "This is followed by a loop with $K$ steps, where in each step an Oracle operator is applied to marks the solution state and the diffusion operator from Grover's algorithm is applied to increase the amplitude in the solution state. \n",
    "\n",
    "The Oracle can be constructed in three steps:\n",
    "- $|x,y\\rangle|z=N\\rangle \\rightarrow |x,y\\rangle|z=N-xy\\rangle$ inverse multiplication\n",
    "- $|z=0\\rangle \\rightarrow -|z=0\\rangle$ inverted multicontrol Z gate\n",
    "- $|x,y\\rangle|z=N-xy\\rangle \\rightarrow |x,y\\rangle|z=N\\rangle$ multiplication\n",
    "\n",
    "i.e., the state where $N=xy$ will acquire a $\\pi$ phase shift while all other states will remain unaffected. \n",
    "\n",
    "After $K = \\lfloor \\frac{\\pi}{4}2^{(n_x+n_y)/2} \\rfloor$ steps the algorithm converges and the solution can be directly read out by measuring the $X$ and $Y$ registers in the computational basis."
   ]
  },
  {
   "cell_type": "markdown",
   "id": "451c03a6",
   "metadata": {
    "tags": []
   },
   "source": [
    "### Circuit primitives"
   ]
  },
  {
   "cell_type": "code",
   "execution_count": null,
   "id": "ce19e7ff",
   "metadata": {},
   "outputs": [],
   "source": [
    "def PhiMultiply(X, Y, Z):\n",
    "    \"\"\"\n",
    "    Acts on three registers to perform the transformation \n",
    "    |x,y,z> -> |x,y,z+x*y> in Fourier space\n",
    "    \"\"\"\n",
    "    circ = Circuit()\n",
    "    nx, ny, nz = len(X), len(Y), len(Z)\n",
    "    \n",
    "    # multiplication x*y \n",
    "    for j in range(nx): # iterates over X\n",
    "        for i in range(ny): # iterates over Y\n",
    "            for k in range(i+j, nz): # iterates over Z\n",
    "                angle = 2*np.pi / 2.0**(k - j - i + 1)\n",
    "                if angle % (2*np.pi) != 0:  # do nothing if angle is multiple of 2pi\n",
    "\n",
    "                    # TODO: apply P gate on Z controlled by X and Y at current index\n",
    "                    pass\n",
    "    return circ\n",
    "\n",
    "def Multiply(X, Y, Z):\n",
    "    \"\"\"\n",
    "    Performs the operation |x,y,z> -> |x,y,z+xy>\n",
    "    \"\"\"\n",
    "    circ = Circuit()\n",
    "    nx, ny, nz = len(X), len(Y), len(Z)\n",
    "\n",
    "    # TODO: Apply the QFT on Z\n",
    "    # TODO: Apply the multiplaction of X&Y in Z\n",
    "    # TODO: cancel QFT\n",
    "    \n",
    "    return circ"
   ]
  },
  {
   "cell_type": "markdown",
   "id": "80c93541",
   "metadata": {},
   "source": [
    "### Factorizing circuit\n",
    "Next, we construct the quantum circuit that implements Grover's algorithm for factorization. The circuit includes $K$ Grover iterations, each consisting of the multiplication operator oracle followed by the diffusion operator acting on the X and Y registers. To capture the result, we apply a single Measure instruction to the qubits in the X register. The outcome of this measurement will provide us with the information needed to determine the factors of our input number."
   ]
  },
  {
   "cell_type": "code",
   "execution_count": null,
   "id": "d10f618d",
   "metadata": {},
   "outputs": [],
   "source": [
    "def factorize(N: int, K: int, nx: int, ny: int):\n",
    "    # prepare registers\n",
    "    nz = nx + ny + 1\n",
    "    X = list(range(0, nx))\n",
    "    Y = list(range(nx, nx + ny))\n",
    "    Z = list(range(nx + ny, nx + ny + nz))\n",
    "    \n",
    "    Nj = [int(b) for b in bin(N)[2:][::-1]]  # binary digits of N, least significant first\n",
    "\n",
    "    # initialize\n",
    "    circ = Circuit()\n",
    "    \n",
    "    # TODO: Put X and Y in the superposition state\n",
    "\n",
    "    # TODO: Encode the bitstring in Z\n",
    "    \n",
    "    # Grover loop\n",
    "    for k in range(K):\n",
    "        # Oracle\n",
    "        # TODO: Apply the inverse of the multiplication circuit to do |X,Y,Z-XY>\n",
    "        \n",
    "        # TODO: Add - phaze if Z is in all 0s state\n",
    "\n",
    "        # TODO: cancel The multiplication\n",
    "\n",
    "        # TODO: Apply the Diffusion operator\n",
    "        pass\n",
    "    # TODO: Measure the X register\n",
    "    return circ"
   ]
  },
  {
   "cell_type": "markdown",
   "id": "513db60b",
   "metadata": {
    "tags": []
   },
   "source": [
    "### Create, run the circuit and sample the outputs"
   ]
  },
  {
   "cell_type": "code",
   "execution_count": 11,
   "id": "b65780a6",
   "metadata": {
    "scrolled": false,
    "tags": []
   },
   "outputs": [],
   "source": [
    "N = 143 # 13 * 11\n",
    "nx, ny = 4,4\n",
    "iterations = 8\n",
    "circuit = factorize(N, iterations, nx, ny)\n",
    "# Submit the job\n",
    "res = sim.execute(circuit)"
   ]
  },
  {
   "cell_type": "markdown",
   "id": "6453bf48",
   "metadata": {},
   "source": [
    "## Extract the output bitstrings and integer values"
   ]
  },
  {
   "cell_type": "code",
   "execution_count": null,
   "id": "2515eedb",
   "metadata": {},
   "outputs": [],
   "source": [
    "#Get the histogram of measurement results\n",
    "histogram = res.histogram()\n",
    "\n",
    "# Convert binary strings to integers and create a sorted list of results\n",
    "sorted_results = sorted([int(bitarray.to01(), 2) for bitarray in histogram.keys()])\n",
    "\n",
    "# Print the results in a more readable format\n",
    "print(\"Measurement results:\")\n",
    "print(f\"{'Bitstring':<10} {'Decimal':<10} {'Occurrences':<12} {'Probability':<12}\")\n",
    "print(\"-\" * 50)\n",
    "for outcome, shots in histogram.items():\n",
    "    bitstring = outcome.to01()\n",
    "    decimal = BitString(outcome).tointeger()\n",
    "    probability = shots / len(res.cstates)\n",
    "    print(f\"{bitstring:<10} {decimal:<10} {shots:<12} {probability:.4f}\")\n",
    "\n",
    "print(f\"\\nTotal shots: {len(res.cstates)}\")"
   ]
  },
  {
   "cell_type": "markdown",
   "id": "1d325526",
   "metadata": {},
   "source": [
    "The results of our quantum factorization simulation are remarkably successful. The X register consistently returns two outcomes, each occurring with approximately equal probability:\n",
    "\n",
    "    1011 in binary, which is equivalent to 13 in decimal\n",
    "    1101 in binary, which is equivalent to 11 in decimal\n",
    "\n",
    "These outcomes are precisely the correct factors of our target number, as 13 * 11 = 143.\n",
    "\n",
    "While Grover's algorithm doesn't offer the superpolynomial speedup that Shor's factoring algorithm can achieve, it effectively demonstrates how quantum algorithms can be applied to significant optimization and search problems.\n",
    "\n",
    "We encourage you to experiment with different values of $N$, adjusting the size of the solution registers accordingly. For a deeper dive into this topic, we recommend the publication available at https://arxiv.org/abs/2312.10054. This paper details a variant of this algorithm that successfully factored numbers as large as 30,398,263,859 (7393 × 4,111,763) using MIMIQ!"
   ]
  }
 ],
 "metadata": {
  "kernelspec": {
   "display_name": "quanta",
   "language": "python",
   "name": "python3"
  },
  "language_info": {
   "codemirror_mode": {
    "name": "ipython",
    "version": 3
   },
   "file_extension": ".py",
   "mimetype": "text/x-python",
   "name": "python",
   "nbconvert_exporter": "python",
   "pygments_lexer": "ipython3",
   "version": "3.12.8"
  }
 },
 "nbformat": 4,
 "nbformat_minor": 5
}
